{
 "cells": [
  {
   "cell_type": "markdown",
   "id": "2f70c7cf",
   "metadata": {},
   "source": [
    "# Install the liabrary"
   ]
  },
  {
   "cell_type": "code",
   "execution_count": null,
   "id": "9a8b3275",
   "metadata": {},
   "outputs": [],
   "source": [
    "# pip install opencv-python"
   ]
  },
  {
   "cell_type": "code",
   "execution_count": 2,
   "id": "117f43c8",
   "metadata": {},
   "outputs": [],
   "source": [
    "import cv2"
   ]
  },
  {
   "cell_type": "markdown",
   "id": "028d67e7",
   "metadata": {},
   "source": [
    "# Read, view and save image"
   ]
  },
  {
   "cell_type": "code",
   "execution_count": 11,
   "id": "5ce1f410",
   "metadata": {},
   "outputs": [],
   "source": [
    "# to open the image \n",
    "\n",
    "image= cv2.imread('elephant.jpg')\n",
    "\n",
    "# to view the image\n",
    "# image # pixel values in array format\n",
    "\n",
    "cv2.imshow('imageframe',image)\n",
    "\n",
    "# save in different format\n",
    "cv2.imwrite('DS.png',image)\n",
    "\n",
    "cv2.waitKey(5000) # 5000 for 5 seconds\n",
    "cv2.destroyAllWindows()"
   ]
  },
  {
   "cell_type": "code",
   "execution_count": null,
   "id": "4e47a3fa",
   "metadata": {},
   "outputs": [],
   "source": [
    "# to convert to grayscale"
   ]
  },
  {
   "cell_type": "code",
   "execution_count": 12,
   "id": "533a559e",
   "metadata": {},
   "outputs": [
    {
     "name": "stdout",
     "output_type": "stream",
     "text": [
      "(1377, 1200)\n"
     ]
    }
   ],
   "source": [
    "grey_img= cv2.cvtColor(image, cv2.COLOR_BGR2GRAY)\n",
    "\n",
    "cv2.imshow('greyImageFrame',grey_img)\n",
    "cv2.waitKey(5000)\n",
    "cv2.destroyAllWindows()\n",
    "print(grey_img.shape)"
   ]
  },
  {
   "cell_type": "code",
   "execution_count": 13,
   "id": "e82b8c93",
   "metadata": {},
   "outputs": [
    {
     "name": "stdout",
     "output_type": "stream",
     "text": [
      "(1377, 1200)\n"
     ]
    }
   ],
   "source": [
    "print(grey_img.shape)"
   ]
  },
  {
   "cell_type": "markdown",
   "id": "a259b8d9",
   "metadata": {},
   "source": [
    "# to extract red, green, ble colour from the image"
   ]
  },
  {
   "cell_type": "code",
   "execution_count": 15,
   "id": "c9e28ada",
   "metadata": {},
   "outputs": [],
   "source": [
    "image= cv2.imread('peacock.jpg')\n",
    "B, G, R = cv2.split(image)\n",
    "cv2.imshow('original', image)\n",
    "cv2.imshow('red_img',R)\n",
    "cv2.imshow('green_img', G)\n",
    "cv2.imshow('blue_img', B)\n",
    "\n",
    "cv2.waitKey()\n",
    "cv2.destroyAllWindows()"
   ]
  },
  {
   "cell_type": "code",
   "execution_count": 18,
   "id": "0a56d585",
   "metadata": {},
   "outputs": [],
   "source": [
    "image= cv2.imread('peacock.jpg')\n",
    "B, G, R = cv2.split(image)\n",
    "\n",
    "merge= cv2.merge([B+100, G, R])\n",
    "cv2.imshow('merged image',merge)\n",
    "\n",
    "cv2.waitKey()\n",
    "cv2.destroyAllWindows()"
   ]
  },
  {
   "cell_type": "markdown",
   "id": "3365a86e",
   "metadata": {},
   "source": [
    "# Image properties"
   ]
  },
  {
   "cell_type": "code",
   "execution_count": 20,
   "id": "ccf09adf",
   "metadata": {},
   "outputs": [
    {
     "name": "stdout",
     "output_type": "stream",
     "text": [
      "(1500, 1000, 3)\n",
      "4500000\n",
      "uint8\n"
     ]
    }
   ],
   "source": [
    "print(image.shape)\n",
    "print(image.size)\n",
    "print(image.dtype)"
   ]
  },
  {
   "cell_type": "markdown",
   "id": "6eab7d9a",
   "metadata": {},
   "source": [
    "# Gaussain Blur- Smoothening"
   ]
  },
  {
   "cell_type": "code",
   "execution_count": 21,
   "id": "3c1ce0d9",
   "metadata": {},
   "outputs": [
    {
     "data": {
      "text/plain": [
       "True"
      ]
     },
     "execution_count": 21,
     "metadata": {},
     "output_type": "execute_result"
    }
   ],
   "source": [
    "img= cv2.imread('peacock.jpg')\n",
    "gaussainimg = cv2.GaussianBlur(img,(21,21),0)\n",
    "cv2.imwrite('gaussimg.jpg', gaussainimg)"
   ]
  },
  {
   "cell_type": "code",
   "execution_count": 23,
   "id": "325900ae",
   "metadata": {},
   "outputs": [],
   "source": [
    "# Live Video capture from laptop\n",
    "\n",
    "image= cv2.VideoCapture(0) # sepcify camera number 0,1,2,-1\n",
    "_, frame = image.read()\n",
    "\n",
    "cv2.imshow('myimage', frame)\n",
    "cv2.waitKey()\n",
    "cv2.imwrite('myimage1.jpg', frame)\n",
    "\n",
    "image.release()\n",
    "cv2.destroyAllWindows()"
   ]
  },
  {
   "cell_type": "markdown",
   "id": "313c2e65",
   "metadata": {},
   "source": [
    "# to take pics continuously until we press some keys"
   ]
  },
  {
   "cell_type": "code",
   "execution_count": 4,
   "id": "e7a26dc7",
   "metadata": {},
   "outputs": [],
   "source": [
    "import time\n",
    "\n",
    "image = cv2.VideoCapture(0)\n",
    "count = 0\n",
    "\n",
    "while True:\n",
    "    count += 1\n",
    "    _, frame = image.read()\n",
    "    \n",
    "    cv2.imshow('myimage', frame)\n",
    "    if cv2.waitKey() == ord('q'): #wait key(1) captures in video format continuously\n",
    "        break\n",
    "    print(frame.shape)\n",
    "    \n",
    "    cv2.imwrite('myimg'+str(count)+'.jpg', frame)\n",
    "    time.sleep(2) # interval\n",
    "\n",
    "image.release()\n",
    "cv2.destroyAllWindows()\n",
    "    "
   ]
  },
  {
   "cell_type": "code",
   "execution_count": 5,
   "id": "5b08d763",
   "metadata": {},
   "outputs": [
    {
     "name": "stdout",
     "output_type": "stream",
     "text": [
      "(480, 640, 3)\n"
     ]
    }
   ],
   "source": [
    "print(frame.shape)"
   ]
  },
  {
   "cell_type": "markdown",
   "id": "b1bc07ce",
   "metadata": {},
   "source": [
    "# to create a video"
   ]
  },
  {
   "cell_type": "code",
   "execution_count": 6,
   "id": "95cceae6",
   "metadata": {},
   "outputs": [],
   "source": [
    "image = cv2.VideoCapture(0)\n",
    "\n",
    "fourcc_code = cv2.VideoWriter_fourcc(*'XVID') # this will generate some code \n",
    "fourcc_code\n",
    "video = cv2.VideoWriter('my_video.avi', fourcc_code, 20.0, (640,480))\n",
    "\n",
    "while True:\n",
    "\n",
    "    _, frame = image.read()\n",
    "    video.write(frame)\n",
    "    \n",
    "    cv2.imshow('myimage', frame)\n",
    "    if cv2.waitKey() == ord('q'): #wait key(1) captures in video format continuously\n",
    "        break\n",
    "    \n",
    "    cv2.imwrite('myimg'+str(count)+'.jpg', frame)\n",
    "\n",
    "video.release()\n",
    "image.release()\n",
    "cv2.destroyAllWindows()"
   ]
  },
  {
   "cell_type": "code",
   "execution_count": null,
   "id": "a5256322",
   "metadata": {},
   "outputs": [],
   "source": [
    "# if using mobile camera\n",
    "\n",
    "# install IP webcam app from playstore\n",
    "# use the ip\n",
    "\n",
    "\n",
    "# image = cv2.VideoCapture(http://192..../8080/video)\n",
    "# Mobile generally (1080, 1920)"
   ]
  },
  {
   "cell_type": "markdown",
   "id": "38cf8264",
   "metadata": {},
   "source": [
    "# MOVING OBJECT DETECTION USING OPENCV AND IMUTILS"
   ]
  },
  {
   "cell_type": "code",
   "execution_count": 11,
   "id": "c3503f65",
   "metadata": {},
   "outputs": [],
   "source": [
    "import cv2\n",
    "import time\n",
    "import imutils\n",
    "from datetime import datetime\n",
    "\n",
    "cam = cv2.VideoCapture(0)\n",
    "time.sleep(1)\n",
    "\n",
    "firstFrame = None\n",
    "area = 500\n",
    "\n",
    "while True:\n",
    "    _, img = cam.read(1)\n",
    "    text = 'Normal'\n",
    "    img = imutils.resize(img, width=500)\n",
    "    grayImg = cv2.cvtColor(img, cv2.COLOR_BGR2GRAY)\n",
    "    gaussimg = cv2.GaussianBlur(grayImg, (21,21), 0)\n",
    "    if firstFrame is None:\n",
    "        firstFrame = gaussimg\n",
    "        continue\n",
    "    \n",
    "    imgdiff = cv2.absdiff(firstFrame, gaussimg)\n",
    "    threshimg = cv2.threshold(imgdiff, 25, 255, cv2.THRESH_BINARY)[1]\n",
    "    threshimg = cv2.dilate(threshimg, None, iterations =2)\n",
    "    cnts = cv2.findContours(threshimg.copy(), cv2.RETR_EXTERNAL, cv2.CHAIN_APPROX_SIMPLE)\n",
    "    \n",
    "    cnts = imutils.grab_contours(cnts)\n",
    "    \n",
    "    for c in cnts:\n",
    "        if cv2.contourArea(c) < area:\n",
    "            continue\n",
    "        (x,y,w,h) = cv2.boundingRect(c)\n",
    "        cv2.rectangle(img, (x,y), (x+w, y+h), (0, 255, 0), 2)\n",
    "        test = 'moving object detected'\n",
    "    \n",
    "    if text != 'Normal':\n",
    "        now = datetime.now()\n",
    "        current_time= now.strftime('%H:%M:%S')\n",
    "        print(text, crrent_time)\n",
    "        \n",
    "    cv2.putText(img, text, (10,20), cv2.FONT_HERSHEY_SIMPLEX, 0.5, (0,0,255), 2 )\n",
    "    cv2.imshow('cameed', img)\n",
    "    if cv2.waitKey(1) == ord('q'):\n",
    "        break\n",
    "\n",
    "cam.release()\n",
    "cv2.destroyAllWindows()"
   ]
  },
  {
   "cell_type": "code",
   "execution_count": null,
   "id": "a94ddbb9",
   "metadata": {},
   "outputs": [],
   "source": []
  },
  {
   "cell_type": "code",
   "execution_count": null,
   "id": "7b11b9c8",
   "metadata": {},
   "outputs": [],
   "source": []
  },
  {
   "cell_type": "code",
   "execution_count": null,
   "id": "35df672f",
   "metadata": {},
   "outputs": [],
   "source": []
  },
  {
   "cell_type": "code",
   "execution_count": null,
   "id": "2e874094",
   "metadata": {},
   "outputs": [],
   "source": []
  },
  {
   "cell_type": "code",
   "execution_count": null,
   "id": "2df2f6f5",
   "metadata": {},
   "outputs": [],
   "source": []
  }
 ],
 "metadata": {
  "kernelspec": {
   "display_name": "Python 3",
   "language": "python",
   "name": "python3"
  },
  "language_info": {
   "codemirror_mode": {
    "name": "ipython",
    "version": 3
   },
   "file_extension": ".py",
   "mimetype": "text/x-python",
   "name": "python",
   "nbconvert_exporter": "python",
   "pygments_lexer": "ipython3",
   "version": "3.8.8"
  }
 },
 "nbformat": 4,
 "nbformat_minor": 5
}
